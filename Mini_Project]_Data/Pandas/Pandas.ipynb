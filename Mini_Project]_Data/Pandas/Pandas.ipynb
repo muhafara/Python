{
 "cells": [
  {
   "cell_type": "code",
   "execution_count": 1,
   "id": "5b987dc0",
   "metadata": {},
   "outputs": [],
   "source": [
    "import pandas as pd"
   ]
  },
  {
   "cell_type": "code",
   "execution_count": 2,
   "id": "0ad7b237",
   "metadata": {},
   "outputs": [
    {
     "data": {
      "text/plain": [
       "'Importing excel file using pandas'"
      ]
     },
     "execution_count": 2,
     "metadata": {},
     "output_type": "execute_result"
    }
   ],
   "source": [
    "'''Importing excel file using pandas'''"
   ]
  },
  {
   "cell_type": "code",
   "execution_count": null,
   "id": "3810d2e4",
   "metadata": {},
   "outputs": [],
   "source": [
    "#df = pd.read_csv(\"C:/Users/FaranMuhammad/Documents/Xander - Technical Course/pp-monthly-update-new-version.csv\")\n",
    "# ----> to read the file with specified path.  \n",
    "#print the data frame#print(df)\n",
    "#df = df.fillna(\"\") --> use to fill the nan \n",
    "#pd.set_option(\"display.max_columns\",None)\n",
    "#pd.set_option(\"display.max_rows\",None)\n",
    "#df.head() show first few rows\n",
    "#df.head(3) --> print first 3 rows\n",
    "#df.corr() shows corrilation \n",
    "#df.info --> Info about dataframe"
   ]
  },
  {
   "cell_type": "code",
   "execution_count": 3,
   "id": "1f4c2a0f",
   "metadata": {},
   "outputs": [],
   "source": [
    "df = pd.read_excel('C:/Users/FaranMuhammad/OneDrive/coding/Mini_Project/Pandas/UNICEF Global database on education for children with disabilities.xlsx')"
   ]
  },
  {
   "cell_type": "code",
   "execution_count": null,
   "id": "bf27c1c6",
   "metadata": {},
   "outputs": [],
   "source": [
    "#print(df)"
   ]
  },
  {
   "cell_type": "code",
   "execution_count": null,
   "id": "a7284f5d",
   "metadata": {},
   "outputs": [],
   "source": [
    "'''We can use the shape attribute to check how large the resulting DataFrame is'''\n",
    "df.shape"
   ]
  },
  {
   "cell_type": "code",
   "execution_count": null,
   "id": "6b60d324",
   "metadata": {},
   "outputs": [],
   "source": [
    "'''using head() to retrive first few rows'''"
   ]
  },
  {
   "cell_type": "code",
   "execution_count": null,
   "id": "4cb91ca2",
   "metadata": {},
   "outputs": [],
   "source": [
    "df.head()"
   ]
  },
  {
   "cell_type": "code",
   "execution_count": null,
   "id": "fe2b148c",
   "metadata": {},
   "outputs": [],
   "source": [
    "pd.set_option(\"display.max_columns\",None)"
   ]
  },
  {
   "cell_type": "code",
   "execution_count": null,
   "id": "3ec68ace",
   "metadata": {},
   "outputs": [],
   "source": [
    "pd.set_option(\"display.max_rows\",None)"
   ]
  },
  {
   "cell_type": "code",
   "execution_count": null,
   "id": "2e0c36de",
   "metadata": {},
   "outputs": [],
   "source": [
    "'''getting list of column from dataframe'''\n",
    "print(df.columns.ravel())"
   ]
  },
  {
   "cell_type": "code",
   "execution_count": null,
   "id": "909eba02",
   "metadata": {},
   "outputs": [],
   "source": [
    "'''selecting one column from data frame'''\n"
   ]
  },
  {
   "cell_type": "code",
   "execution_count": null,
   "id": "f033f629",
   "metadata": {},
   "outputs": [],
   "source": [
    "df.Region"
   ]
  },
  {
   "cell_type": "code",
   "execution_count": null,
   "id": "621b24de",
   "metadata": {},
   "outputs": [],
   "source": [
    "'''using conditional statement'''\n",
    "df.Region == 'SA'"
   ]
  },
  {
   "cell_type": "code",
   "execution_count": null,
   "id": "575b5662",
   "metadata": {},
   "outputs": [],
   "source": [
    "'''multiple conditional statement'''\n",
    "df.loc[(df.Region == 'SA') & (df.Category =='Male')]"
   ]
  },
  {
   "cell_type": "code",
   "execution_count": null,
   "id": "0491e1c2",
   "metadata": {},
   "outputs": [],
   "source": [
    "#function and maps\n",
    "#describe method This method generates a high-level summary of the attributes of the given column. \n",
    "#It is type-aware, meaning that its output changes based on the data type of the input.\n",
    "#The output above only makes sense for numerical data; for string data here's what we get:"
   ]
  },
  {
   "cell_type": "code",
   "execution_count": null,
   "id": "6da214b7",
   "metadata": {},
   "outputs": [],
   "source": [
    "df.Region.describe()"
   ]
  },
  {
   "cell_type": "code",
   "execution_count": null,
   "id": "6d6e962a",
   "metadata": {},
   "outputs": [],
   "source": [
    "#using ,mean() function"
   ]
  },
  {
   "cell_type": "code",
   "execution_count": null,
   "id": "a25423d4",
   "metadata": {},
   "outputs": [],
   "source": [
    "df.Total.Point().mean"
   ]
  },
  {
   "cell_type": "code",
   "execution_count": null,
   "id": "2c102044",
   "metadata": {},
   "outputs": [],
   "source": [
    "# checking data type of a column\n",
    "df.Region.dtype"
   ]
  },
  {
   "cell_type": "code",
   "execution_count": null,
   "id": "6b1fb8c6",
   "metadata": {},
   "outputs": [],
   "source": [
    "df.corr()"
   ]
  },
  {
   "cell_type": "code",
   "execution_count": 4,
   "id": "9d97df1d",
   "metadata": {},
   "outputs": [],
   "source": [
    "#--> use to fill the nan\n",
    "df = df.fillna(\"\") "
   ]
  },
  {
   "cell_type": "code",
   "execution_count": 5,
   "id": "abc97cb2",
   "metadata": {},
   "outputs": [
    {
     "name": "stdout",
     "output_type": "stream",
     "text": [
      "    Countries and areas ISO Code Region Sub-region Development regions  \\\n",
      "0                                                                        \n",
      "1            Bangladesh      BGD     SA         SA     Least Developed   \n",
      "2            Bangladesh      BGD     SA         SA     Least Developed   \n",
      "3            Bangladesh      BGD     SA         SA     Least Developed   \n",
      "4            Bangladesh      BGD     SA         SA     Least Developed   \n",
      "..                  ...      ...    ...        ...                 ...   \n",
      "156            Zimbabwe      ZWE    SSA        ESA      Less Developed   \n",
      "157            Zimbabwe      ZWE    SSA        ESA      Less Developed   \n",
      "158            Zimbabwe      ZWE    SSA        ESA      Less Developed   \n",
      "159            Zimbabwe      ZWE    SSA        ESA      Less Developed   \n",
      "160            Zimbabwe      ZWE    SSA        ESA      Less Developed   \n",
      "\n",
      "        Indicator Category           Total   Unnamed: 8   Unnamed: 9  \\\n",
      "0                           Point estimate  Upper limit  Lower limit   \n",
      "1    ANAR Primary    Total            82.7         83.3         82.1   \n",
      "2    ANAR Primary     Male            80.1           81         79.2   \n",
      "3    ANAR Primary   Female            85.3         86.1         84.5   \n",
      "4    ANAR Primary    Urban            84.3         85.6         82.9   \n",
      "..            ...      ...             ...          ...          ...   \n",
      "156  ANAR Primary    Total            90.3         91.2         89.3   \n",
      "157  ANAR Primary     Male            89.2         90.5         87.8   \n",
      "158  ANAR Primary   Female            91.4         92.7         90.2   \n",
      "159  ANAR Primary    Urban            92.8         94.2         91.3   \n",
      "160  ANAR Primary    Rural            89.4         90.5         88.2   \n",
      "\n",
      "    Children without functional difficulties  Unnamed: 11  Unnamed: 12  \\\n",
      "0                             Point estimate  Upper limit  Lower limit   \n",
      "1                                       83.7         84.3         83.1   \n",
      "2                                       81.4         82.3         80.5   \n",
      "3                                         86         86.9         85.2   \n",
      "4                                       84.9         86.3         83.6   \n",
      "..                                       ...          ...          ...   \n",
      "156                                     90.3         91.2         89.3   \n",
      "157                                     89.2         90.6         87.8   \n",
      "158                                     91.4         92.7         90.1   \n",
      "159                                       93         94.5         91.5   \n",
      "160                                     89.3         90.5         88.1   \n",
      "\n",
      "    Children with functional difficulties  Unnamed: 14  Unnamed: 15  \\\n",
      "0                          Point estimate  Upper limit  Lower limit   \n",
      "1                                    72.1         74.6         69.6   \n",
      "2                                    68.1         71.5         64.6   \n",
      "3                                    76.8         80.2         73.3   \n",
      "4                                    76.1         81.8         70.3   \n",
      "..                                    ...          ...          ...   \n",
      "156                                  90.1         93.2         87.1   \n",
      "157                                  88.6         92.9         84.2   \n",
      "158                                    92         96.1         87.9   \n",
      "159                                  90.1         96.5         83.8   \n",
      "160                                  90.1         93.6         86.7   \n",
      "\n",
      "    Data source Time period  \n",
      "0                            \n",
      "1         MICS6        2019  \n",
      "2         MICS6        2019  \n",
      "3         MICS6        2019  \n",
      "4         MICS6        2019  \n",
      "..          ...         ...  \n",
      "156       MICS6        2019  \n",
      "157       MICS6        2019  \n",
      "158       MICS6        2019  \n",
      "159       MICS6        2019  \n",
      "160       MICS6        2019  \n",
      "\n",
      "[161 rows x 18 columns]\n"
     ]
    }
   ],
   "source": [
    "print(df)"
   ]
  },
  {
   "cell_type": "code",
   "execution_count": 6,
   "id": "d00d19df",
   "metadata": {},
   "outputs": [
    {
     "ename": "SyntaxError",
     "evalue": "invalid syntax (<ipython-input-6-293ecc319163>, line 2)",
     "output_type": "error",
     "traceback": [
      "\u001b[1;36m  File \u001b[1;32m\"<ipython-input-6-293ecc319163>\"\u001b[1;36m, line \u001b[1;32m2\u001b[0m\n\u001b[1;33m    mns = ['col2','col1'])\u001b[0m\n\u001b[1;37m    ^\u001b[0m\n\u001b[1;31mSyntaxError\u001b[0m\u001b[1;31m:\u001b[0m invalid syntax\n"
     ]
    }
   ],
   "source": [
    "unsorted_df = pd.DataFrame(np.random.randn(10,2),index=[1,4,6,2,3,5,9,8,0,7],colu\n",
    "   mns = ['col2','col1'])"
   ]
  },
  {
   "cell_type": "code",
   "execution_count": null,
   "id": "17871574",
   "metadata": {},
   "outputs": [],
   "source": []
  }
 ],
 "metadata": {
  "kernelspec": {
   "display_name": "Python 3",
   "language": "python",
   "name": "python3"
  },
  "language_info": {
   "codemirror_mode": {
    "name": "ipython",
    "version": 3
   },
   "file_extension": ".py",
   "mimetype": "text/x-python",
   "name": "python",
   "nbconvert_exporter": "python",
   "pygments_lexer": "ipython3",
   "version": "3.8.8"
  }
 },
 "nbformat": 4,
 "nbformat_minor": 5
}
