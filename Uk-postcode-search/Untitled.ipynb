{
 "cells": [
  {
   "cell_type": "code",
   "execution_count": 1,
   "id": "747fe4f4",
   "metadata": {},
   "outputs": [],
   "source": [
    "import json"
   ]
  },
  {
   "cell_type": "code",
   "execution_count": 2,
   "id": "b82486d1",
   "metadata": {},
   "outputs": [],
   "source": [
    "import requests"
   ]
  },
  {
   "cell_type": "code",
   "execution_count": 71,
   "id": "5e1cbb29",
   "metadata": {},
   "outputs": [],
   "source": [
    " url = \"https://www.planit.org.uk/api/applics/json?pcode=W5+3DF&krad=2.0&recent=8\""
   ]
  },
  {
   "cell_type": "code",
   "execution_count": 72,
   "id": "3127faf1",
   "metadata": {},
   "outputs": [],
   "source": [
    "page = requests.get(url)"
   ]
  },
  {
   "cell_type": "code",
   "execution_count": 73,
   "id": "dc580d8b",
   "metadata": {},
   "outputs": [],
   "source": [
    "data = json.loads(page.content)"
   ]
  },
  {
   "cell_type": "code",
   "execution_count": 74,
   "id": "72fce1ee",
   "metadata": {
    "scrolled": true
   },
   "outputs": [
    {
     "name": "stdout",
     "output_type": "stream",
     "text": [
      "<class 'dict'>\n"
     ]
    }
   ],
   "source": [
    "print(type(data))"
   ]
  },
  {
   "cell_type": "code",
   "execution_count": 75,
   "id": "b4458098",
   "metadata": {},
   "outputs": [
    {
     "name": "stdout",
     "output_type": "stream",
     "text": [
      "<class 'list'>\n"
     ]
    }
   ],
   "source": [
    "print(type(data['records']))"
   ]
  },
  {
   "cell_type": "code",
   "execution_count": 104,
   "id": "c941f3cc",
   "metadata": {},
   "outputs": [
    {
     "name": "stdout",
     "output_type": "stream",
     "text": [
      "Records are : \n",
      "\n",
      "\n",
      " 64 Ashbourne Road Ealing London W5 3DJ Ealing T1 - Row of five Poplar trees, crown reduce in height back to the most recent previous points of reduction/approximately 4.0m to continue the ongoing maintenance of the trees Ealing Hanger Hill W5 3DJ \n",
      "\n",
      "Records are : \n",
      "\n",
      "\n",
      " 6 Westfields Road Acton London W3 0AP Ealing Single storey rear extension; alteration of roof from hip to gable end; two rear dormer roof extensions and installation of four roof lights to front roof slope (Lawful Development Certificate for a Proposed Development) Ealing North Acton W3 0AP \n",
      "\n",
      "Records are : \n",
      "\n",
      "\n",
      " Flat 4 82-84 Twyford Avenue Acton London W3 9QF Ealing Application for a Non-Material Amendment in (S96a) seeking to allow amendment relation to condition No.2 minor changes to the external elevations in relation to planning permission reference 184352FUL dated 06/03/2019 for 'Construction of a part single, part two storey dwellinghouse with associated cycle parking and landscaping ' Ealing North Acton W3 9QF \n",
      "\n",
      "Records are : \n",
      "\n",
      "\n",
      " 61 Creffield Road Acton London W3 9PS Ealing Rear garden: T1. Robinia - crown reduction - reduce and reshape crown all round (height and spread) by up to 3 metres. Estimated height and spread upon completion of works: 5.5 metres tall and 3 metres wide Ealing Ealing Common W3 9PS \n",
      "\n",
      "Records are : \n",
      "\n",
      "\n",
      " 35 Rosemont Road Acton London W3 9LU Ealing Single storey detached garden outbuilding for use as gym/bicycle storage/art studio (Lawful Development Certificate for a Proposed Development) Ealing North Acton W3 9LU \n",
      "\n"
     ]
    }
   ],
   "source": [
    "for element in data['records']:\n",
    "    print(\"Records are : \\n\")\n",
    "    print(\"\\n\",element['address'],element['area_name'],element['description'],element['scraper_name'],element['other_fields']['ward_name'],element['postcode'],\"\\n\")"
   ]
  },
  {
   "cell_type": "code",
   "execution_count": null,
   "id": "4a631ba8",
   "metadata": {},
   "outputs": [],
   "source": []
  }
 ],
 "metadata": {
  "kernelspec": {
   "display_name": "Python 3",
   "language": "python",
   "name": "python3"
  },
  "language_info": {
   "codemirror_mode": {
    "name": "ipython",
    "version": 3
   },
   "file_extension": ".py",
   "mimetype": "text/x-python",
   "name": "python",
   "nbconvert_exporter": "python",
   "pygments_lexer": "ipython3",
   "version": "3.8.8"
  }
 },
 "nbformat": 4,
 "nbformat_minor": 5
}
