{
 "cells": [
  {
   "cell_type": "code",
   "execution_count": 1,
   "id": "378c95db",
   "metadata": {},
   "outputs": [],
   "source": [
    "import json\n",
    "import requests\n",
    "from datetime import datetime"
   ]
  },
  {
   "cell_type": "code",
   "execution_count": 2,
   "id": "410f3830",
   "metadata": {},
   "outputs": [],
   "source": [
    "current_year = datetime.now().year"
   ]
  },
  {
   "cell_type": "code",
   "execution_count": 3,
   "id": "f5c5f785",
   "metadata": {},
   "outputs": [],
   "source": [
    "current_month = datetime.now().month"
   ]
  },
  {
   "cell_type": "code",
   "execution_count": 4,
   "id": "38f00e2c",
   "metadata": {},
   "outputs": [],
   "source": [
    " url = \"https://data.police.uk/api/crimes-street/all-crime?lat=52.629729&lng=-1.131592&date{}{}/\".format(current_year,current_month)"
   ]
  },
  {
   "cell_type": "code",
   "execution_count": 5,
   "id": "39983ea3",
   "metadata": {},
   "outputs": [],
   "source": [
    "page = requests.get(url)"
   ]
  },
  {
   "cell_type": "code",
   "execution_count": 6,
   "id": "ebf98ab8",
   "metadata": {},
   "outputs": [],
   "source": [
    " data = json.loads(page.content)"
   ]
  },
  {
   "cell_type": "code",
   "execution_count": 8,
   "id": "9c558da1",
   "metadata": {},
   "outputs": [
    {
     "name": "stdout",
     "output_type": "stream",
     "text": [
      "<class 'list'>\n"
     ]
    }
   ],
   "source": [
    "print(type(data))"
   ]
  },
  {
   "cell_type": "code",
   "execution_count": 16,
   "id": "22d39800",
   "metadata": {
    "scrolled": false
   },
   "outputs": [
    {
     "name": "stdout",
     "output_type": "stream",
     "text": [
      "\n",
      " anti-social-behaviour Force 2022-09 \n",
      "\n",
      "\n",
      " anti-social-behaviour Force 2022-09 \n",
      "\n",
      "\n",
      " anti-social-behaviour Force 2022-09 \n",
      "\n",
      "\n",
      " anti-social-behaviour Force 2022-09 \n",
      "\n",
      "\n",
      " anti-social-behaviour Force 2022-09 \n",
      "\n",
      "\n",
      " anti-social-behaviour Force 2022-09 \n",
      "\n",
      "\n",
      " anti-social-behaviour Force 2022-09 \n",
      "\n",
      "\n",
      " anti-social-behaviour Force 2022-09 \n",
      "\n",
      "\n",
      " anti-social-behaviour Force 2022-09 \n",
      "\n",
      "\n",
      " anti-social-behaviour Force 2022-09 \n",
      "\n"
     ]
    }
   ],
   "source": [
    "counter = 0\n",
    "num_records = 0\n",
    "for element in data:\n",
    "        counter = counter + 1\n",
    "        num_records = num_records + 1\n",
    "        if(num_records<=10):\n",
    "            print(\"\\n\",element['category'],element['location_type'],element['month'],\"\\n\")"
   ]
  },
  {
   "cell_type": "code",
   "execution_count": 17,
   "id": "be8ff1d9",
   "metadata": {},
   "outputs": [
    {
     "name": "stdout",
     "output_type": "stream",
     "text": [
      "1570\n"
     ]
    }
   ],
   "source": [
    "print(counter)"
   ]
  },
  {
   "cell_type": "code",
   "execution_count": null,
   "id": "b079565b",
   "metadata": {},
   "outputs": [],
   "source": []
  }
 ],
 "metadata": {
  "kernelspec": {
   "display_name": "Python 3",
   "language": "python",
   "name": "python3"
  },
  "language_info": {
   "codemirror_mode": {
    "name": "ipython",
    "version": 3
   },
   "file_extension": ".py",
   "mimetype": "text/x-python",
   "name": "python",
   "nbconvert_exporter": "python",
   "pygments_lexer": "ipython3",
   "version": "3.8.8"
  }
 },
 "nbformat": 4,
 "nbformat_minor": 5
}
